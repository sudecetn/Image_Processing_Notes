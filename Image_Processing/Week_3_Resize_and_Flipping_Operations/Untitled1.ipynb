{
 "cells": [
  {
   "cell_type": "code",
   "execution_count": 1,
   "id": "a8cba89b-e0a3-476b-a3f0-7433a4bf46a8",
   "metadata": {},
   "outputs": [],
   "source": [
    "import cv2\n",
    "import numpy as np\n",
    "import time"
   ]
  },
  {
   "cell_type": "code",
   "execution_count": 3,
   "id": "c3094a88-2203-4f92-a76b-71a3977b8445",
   "metadata": {},
   "outputs": [
    {
     "data": {
      "text/plain": [
       "(157, 322, 3)"
      ]
     },
     "execution_count": 3,
     "metadata": {},
     "output_type": "execute_result"
    }
   ],
   "source": [
    "my_img = cv2.imread(\"./manzara.jpeg\",1)\n",
    "my_img.shape"
   ]
  },
  {
   "cell_type": "code",
   "execution_count": 5,
   "id": "888865e8-922c-4460-851e-4a7f0b771f03",
   "metadata": {},
   "outputs": [],
   "source": [
    "cv2.imshow(\"RGB Image\",my_img)\n",
    "cv2.waitKey(1)\n",
    "time.sleep(2)\n",
    "cv2.destroyAllWindows()"
   ]
  },
  {
   "cell_type": "code",
   "execution_count": 9,
   "id": "22aacf79-c316-4127-bf7a-7151537f06cb",
   "metadata": {},
   "outputs": [],
   "source": [
    "vertical_img = cv2.flip(my_img,0)\n",
    "horizontal_img = cv2.flip(my_img,1)\n",
    "both_img = cv2.flip(my_img,-1)"
   ]
  },
  {
   "cell_type": "code",
   "execution_count": 11,
   "id": "b310776e-cc3a-42d5-9778-6f9164cd47e5",
   "metadata": {},
   "outputs": [],
   "source": [
    "cv2.imshow(\"Original Image\",my_img)\n",
    "cv2.imshow(\"Vertical Image\",vertical_img)\n",
    "cv2.imshow(\"Horızontal Image\",horizontal_img)\n",
    "cv2.imshow(\"Vertical and Horizontal Image\",both_img)\n",
    "cv2.waitKey(1)\n",
    "time.sleep(8)\n",
    "cv2.destroyAllWindows()\n"
   ]
  },
  {
   "cell_type": "code",
   "execution_count": 13,
   "id": "d9cad359-076b-4650-8df8-d2bcd212707e",
   "metadata": {},
   "outputs": [
    {
     "data": {
      "text/plain": [
       "numpy.ndarray"
      ]
     },
     "execution_count": 13,
     "metadata": {},
     "output_type": "execute_result"
    }
   ],
   "source": [
    "type(my_img)"
   ]
  },
  {
   "cell_type": "code",
   "execution_count": 17,
   "id": "646d3fa2-4c54-453c-ba99-45c40c54de20",
   "metadata": {},
   "outputs": [],
   "source": [
    "new_vertical_img = my_img[::-1,:,:]\n",
    "new_horizontal_img = my_img[:,::-1,:]\n",
    "new_both_img = my_img[::-1,::-1,:]"
   ]
  },
  {
   "cell_type": "code",
   "execution_count": 19,
   "id": "9c234098-6e57-470e-9acd-23f9bd09aa3c",
   "metadata": {},
   "outputs": [],
   "source": [
    "cv2.imshow(\"Original Image\",my_img)\n",
    "cv2.imshow(\"Vertical Image\",new_vertical_img)\n",
    "cv2.imshow(\"Horızontal Image\",new_horizontal_img)\n",
    "cv2.imshow(\"Vertical and Horizontal Image\",new_both_img)\n",
    "cv2.waitKey(1)\n",
    "time.sleep(1)\n",
    "cv2.destroyAllWindows()\n"
   ]
  },
  {
   "cell_type": "code",
   "execution_count": 29,
   "id": "51f619a8-d6cb-43aa-a761-17de0ccb68a8",
   "metadata": {},
   "outputs": [],
   "source": [
    "my_resized_img = cv2.resize(my_img,(500,300),cv2.INTER_LANCZOS4)\n",
    "cv2.imshow(\"Original Image\",my_img)\n",
    "cv2.imshow(\"Resized Image\",my_resized_img)\n",
    "cv2.waitKey(1)\n",
    "time.sleep(1)\n",
    "cv2.destroyAllWindows()"
   ]
  },
  {
   "cell_type": "code",
   "execution_count": 37,
   "id": "8151bc6a-a433-451e-b2b7-325de66f4592",
   "metadata": {},
   "outputs": [
    {
     "data": {
      "text/plain": [
       "True"
      ]
     },
     "execution_count": 37,
     "metadata": {},
     "output_type": "execute_result"
    }
   ],
   "source": [
    "cv2.imwrite(\"./resized_image_output.png\",my_resized_img)"
   ]
  },
  {
   "cell_type": "code",
   "execution_count": null,
   "id": "c7fea58d-19bd-4ad5-9ed7-31e9ced4f7cc",
   "metadata": {},
   "outputs": [],
   "source": []
  }
 ],
 "metadata": {
  "kernelspec": {
   "display_name": "env_ybs",
   "language": "python",
   "name": "env_ybs"
  },
  "language_info": {
   "codemirror_mode": {
    "name": "ipython",
    "version": 3
   },
   "file_extension": ".py",
   "mimetype": "text/x-python",
   "name": "python",
   "nbconvert_exporter": "python",
   "pygments_lexer": "ipython3",
   "version": "3.10.10"
  }
 },
 "nbformat": 4,
 "nbformat_minor": 5
}
