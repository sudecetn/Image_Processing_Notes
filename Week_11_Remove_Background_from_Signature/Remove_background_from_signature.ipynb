{
 "cells": [
  {
   "cell_type": "code",
   "execution_count": 2,
   "id": "7b78fbcd-dc69-4aec-b303-55774a4dc3f0",
   "metadata": {},
   "outputs": [],
   "source": [
    "import numpy as np\n",
    "from PIL import Image"
   ]
  },
  {
   "cell_type": "code",
   "execution_count": null,
   "id": "16f4b10b-80d5-4e45-92e0-74d3b4376501",
   "metadata": {},
   "outputs": [],
   "source": [
    "my_image = Image.open(\"./your_own_signature.jpeg\").convert('RGB')\n",
    "\n",
    "my_img_normalize = np.array(my_image) / 255.0\n",
    "\n",
    "my_img_normalize[my_img_normalize>0.5] = 1\n",
    "\n",
    "my_img_uint8 = (my_img_normalize*255).astype(np.uint8)\n",
    "\n",
    "my_img_final = Image.fromarray(my_img_uint8)\n",
    "\n",
    "my_img_final.save(\"./my_modified_signature.png\")"
   ]
  }
 ],
 "metadata": {
  "kernelspec": {
   "display_name": "env_ybs",
   "language": "python",
   "name": "env_ybs"
  },
  "language_info": {
   "codemirror_mode": {
    "name": "ipython",
    "version": 3
   },
   "file_extension": ".py",
   "mimetype": "text/x-python",
   "name": "python",
   "nbconvert_exporter": "python",
   "pygments_lexer": "ipython3",
   "version": "3.10.10"
  }
 },
 "nbformat": 4,
 "nbformat_minor": 5
}
